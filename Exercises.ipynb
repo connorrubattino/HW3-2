{
 "cells": [
  {
   "cell_type": "markdown",
   "metadata": {},
   "source": [
    "#### Exercise 1 - Class Inheritance"
   ]
  },
  {
   "cell_type": "markdown",
   "metadata": {},
   "source": [
    "Create an Employee class that sets an employee's first name, last name, job title, salary, and email. The Employee class should have a class attribute for the raise amount set to 5% (1.05). Create a method that will apply the raise to an employee's salary."
   ]
  },
  {
   "cell_type": "code",
   "execution_count": 2,
   "metadata": {},
   "outputs": [],
   "source": [
    "# Write the Employee Parent Class Here\n",
    "class Employee:\n",
    "    raise_amount = 1.05\n",
    "    \n",
    "    def __init__(self, first, last, title, salary):\n",
    "        self.first = first.title()\n",
    "        self.last = last.title()\n",
    "        self.title = title.title()\n",
    "        self.salary = salary\n",
    "        self.email = first.lower() + last[0].lower() + '@coolcompany.com'\n",
    "    \n",
    "    def __str__(self):\n",
    "        return f'{self.first} {self.last}, our {self.title} can be reached at {self.email} and makes {self.salary} per year'\n",
    "    \n",
    "    def apply_raise(self):\n",
    "        self.salary = round(self.salary * Employee.raise_amount)\n",
    "        print(f\"Congrats {self.first}, you have received a raise and your new salary is ${self.salary}\")"
   ]
  },
  {
   "cell_type": "markdown",
   "metadata": {},
   "source": [
    "Create two more classes that inherit from the Employee class. One for Sales and one for Development. Both of these classes will have the same attributes as the Employee.<br>\n",
    "- For the Sales employees, add a phone number attribute on instantiation using the super method. \n",
    "- Create a method on the Sales class that will \"Send a Follow Up Email\". It should take in a customer name and \"send\" aka print a formatted email \"Dear *customer*, Thank you for your interest in our product. Please let me know if you have any questions. My email is *email* or my phone number is *phone number*. Thanks, *full name*\"\n",
    "- Create a method on the Development class called code that will print out \"*full name* is writing code\"."
   ]
  },
  {
   "cell_type": "code",
   "execution_count": 3,
   "metadata": {},
   "outputs": [],
   "source": [
    "# Write the Sales child Class Here\n",
    "\n",
    "class Sales(Employee):\n",
    "    \n",
    "    def __init__(self, first, last, title, salary, phone):\n",
    "        super().__init__(first, last, title, salary)\n",
    "        self.phone = phone\n",
    "        \n",
    "    def send_fu(self, customer_name):\n",
    "        print(f\"Dear {customer_name}, Thank you for your interest in our product. Please let me know if you have any questions. My email is {self.email} or my phone number is {self.phone}. Thanks, {self.first} {self.last}\")\n",
    "    \n"
   ]
  },
  {
   "cell_type": "code",
   "execution_count": 4,
   "metadata": {},
   "outputs": [],
   "source": [
    "# Write the Development child Class Here\n",
    "\n",
    "class Development(Employee):\n",
    "    \n",
    "    def __init__(self, first, last, title, salary):\n",
    "        super().__init__(first, last, title, salary)\n",
    "        \n",
    "    def code(self):\n",
    "        print(f'{self.first} {self.last} is writing code')\n",
    "    \n"
   ]
  },
  {
   "cell_type": "markdown",
   "metadata": {},
   "source": [
    "- Create an instance of a Sales Employee with a salary of $50,000.\n",
    "- Send follow up emails to \"Mike O'Neil\" and \"Hannah Stern\"\n",
    "- Give the employee a raise and print the salary"
   ]
  },
  {
   "cell_type": "code",
   "execution_count": 10,
   "metadata": {},
   "outputs": [],
   "source": [
    "# Create the instance\n",
    "salesperson1 = Sales('John', 'Doe', 'Account Executive', 50000, '555-555-5555')"
   ]
  },
  {
   "cell_type": "code",
   "execution_count": 11,
   "metadata": {},
   "outputs": [
    {
     "name": "stdout",
     "output_type": "stream",
     "text": [
      "Dear Mike O'Niel, Thank you for your interest in our product. Please let me know if you have any questions. My email is johnd@coolcompany.com or my phone number is 555-555-5555. Thanks, John Doe\n"
     ]
    }
   ],
   "source": [
    "# Send follow up to Mike\n",
    "salesperson1.send_fu('Mike O\\'Niel')"
   ]
  },
  {
   "cell_type": "code",
   "execution_count": 12,
   "metadata": {},
   "outputs": [
    {
     "name": "stdout",
     "output_type": "stream",
     "text": [
      "Dear Hannah Stern, Thank you for your interest in our product. Please let me know if you have any questions. My email is johnd@coolcompany.com or my phone number is 555-555-5555. Thanks, John Doe\n"
     ]
    }
   ],
   "source": [
    "# Send follow up to Hannah\n",
    "salesperson1.send_fu('Hannah Stern')"
   ]
  },
  {
   "cell_type": "code",
   "execution_count": 13,
   "metadata": {},
   "outputs": [
    {
     "name": "stdout",
     "output_type": "stream",
     "text": [
      "Congrats John, you have received a raise and your new salary is $52500\n"
     ]
    }
   ],
   "source": [
    "# Give the sales employee a raise\n",
    "salesperson1.apply_raise()"
   ]
  },
  {
   "cell_type": "markdown",
   "metadata": {},
   "source": [
    "- Create an instance of a Development Employee with a salary of $100,000\n",
    "- Write some code with this employee\n",
    "- Give the employee a raise and print the salary"
   ]
  },
  {
   "cell_type": "code",
   "execution_count": 14,
   "metadata": {},
   "outputs": [],
   "source": [
    "# Create the instance\n",
    "devperson1 = Development('Stephen', 'Curry', 'Baddest Man Around', 100000)"
   ]
  },
  {
   "cell_type": "code",
   "execution_count": 15,
   "metadata": {},
   "outputs": [
    {
     "name": "stdout",
     "output_type": "stream",
     "text": [
      "Stephen Curry is writing code\n"
     ]
    }
   ],
   "source": [
    "# Write some code (call code method)\n",
    "devperson1.code()"
   ]
  },
  {
   "cell_type": "code",
   "execution_count": 16,
   "metadata": {},
   "outputs": [
    {
     "name": "stdout",
     "output_type": "stream",
     "text": [
      "Congrats Stephen, you have received a raise and your new salary is $105000\n"
     ]
    }
   ],
   "source": [
    "# Give the dev employee a raise\n",
    "devperson1.apply_raise()"
   ]
  },
  {
   "cell_type": "markdown",
   "metadata": {},
   "source": [
    "#### Exercise 2 - Importing Modules"
   ]
  },
  {
   "cell_type": "markdown",
   "metadata": {},
   "source": [
    "In VS Code, create a module titled `geometry` and add two functions in there. One that will calculate the area of a circle given a radius. The second will find the hypotenuse of a right angle given the two sides. Import the module or the functions from the module and use it to find the answers to the below questions"
   ]
  },
  {
   "cell_type": "markdown",
   "metadata": {},
   "source": [
    "What is the area of a circle with a radius of 7cm?"
   ]
  },
  {
   "cell_type": "code",
   "execution_count": 30,
   "metadata": {},
   "outputs": [
    {
     "data": {
      "text/plain": [
       "153.93804002591"
      ]
     },
     "execution_count": 30,
     "metadata": {},
     "output_type": "execute_result"
    }
   ],
   "source": [
    "# ~153.94\n",
    "from geometry import circle_area, hypotenuse\n",
    "\n",
    "circle_area(7)"
   ]
  },
  {
   "cell_type": "markdown",
   "metadata": {},
   "source": [
    "What is the hypotenuse of a right angle with sides of 3in and 4in?"
   ]
  },
  {
   "cell_type": "code",
   "execution_count": 31,
   "metadata": {},
   "outputs": [
    {
     "ename": "NameError",
     "evalue": "name 'c' is not defined",
     "output_type": "error",
     "traceback": [
      "\u001b[0;31m---------------------------------------------------------------------------\u001b[0m",
      "\u001b[0;31mNameError\u001b[0m                                 Traceback (most recent call last)",
      "Cell \u001b[0;32mIn[31], line 2\u001b[0m\n\u001b[1;32m      1\u001b[0m \u001b[38;5;66;03m# 5 inches\u001b[39;00m\n\u001b[0;32m----> 2\u001b[0m hypotenuse(\u001b[38;5;241m3\u001b[39m, \u001b[38;5;241m4\u001b[39m)\n",
      "File \u001b[0;32m~/Documents/coding_temple/week3/day2/HW/geometry.py:5\u001b[0m, in \u001b[0;36mhypotenuse\u001b[0;34m(a, b)\u001b[0m\n\u001b[1;32m      3\u001b[0m \n\u001b[1;32m      4\u001b[0m def hypotenuse(a, b):\n\u001b[0;32m----> 5\u001b[0m     if int(a) ** 2 + int(b) ** 2 == int(c) ** 2\n\u001b[1;32m      6\u001b[0m         return c\n",
      "\u001b[0;31mNameError\u001b[0m: name 'c' is not defined"
     ]
    }
   ],
   "source": [
    "# 5 inches\n",
    "hypotenuse(3, 4)"
   ]
  }
 ],
 "metadata": {
  "kernelspec": {
   "display_name": "Python 3 (ipykernel)",
   "language": "python",
   "name": "python3"
  },
  "language_info": {
   "codemirror_mode": {
    "name": "ipython",
    "version": 3
   },
   "file_extension": ".py",
   "mimetype": "text/x-python",
   "name": "python",
   "nbconvert_exporter": "python",
   "pygments_lexer": "ipython3",
   "version": "3.11.5"
  }
 },
 "nbformat": 4,
 "nbformat_minor": 4
}
